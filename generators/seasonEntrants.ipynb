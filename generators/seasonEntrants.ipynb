{
 "cells": [
  {
   "attachments": {},
   "cell_type": "markdown",
   "metadata": {},
   "source": [
    "## Event entrants\n",
    "\n",
    "Script to be improved. Bulk edit event entrants of a year"
   ]
  },
  {
   "cell_type": "code",
   "execution_count": 5,
   "metadata": {},
   "outputs": [],
   "source": [
    "import pandas as pd\n",
    "import os"
   ]
  },
  {
   "cell_type": "code",
   "execution_count": 6,
   "metadata": {},
   "outputs": [],
   "source": [
    "# Path of the current data\n",
    "INPUT_PATH = \"./../data/csv/\"\n",
    "\n",
    "# Path to generate the new db files\n",
    "OUTPUT_PATH = \"generated/Data to replace to the DB\"\n",
    "\n",
    "if not os.path.exists(OUTPUT_PATH):\n",
    "   os.makedirs(OUTPUT_PATH)"
   ]
  },
  {
   "cell_type": "code",
   "execution_count": 7,
   "metadata": {},
   "outputs": [],
   "source": [
    "df  = pd.read_csv(f\"{INPUT_PATH}/eventEntrants.csv\")"
   ]
  },
  {
   "cell_type": "code",
   "execution_count": 8,
   "metadata": {},
   "outputs": [
    {
     "data": {
      "text/html": [
       "<div>\n",
       "<style scoped>\n",
       "    .dataframe tbody tr th:only-of-type {\n",
       "        vertical-align: middle;\n",
       "    }\n",
       "\n",
       "    .dataframe tbody tr th {\n",
       "        vertical-align: top;\n",
       "    }\n",
       "\n",
       "    .dataframe thead th {\n",
       "        text-align: right;\n",
       "    }\n",
       "</style>\n",
       "<table border=\"1\" class=\"dataframe\">\n",
       "  <thead>\n",
       "    <tr style=\"text-align: right;\">\n",
       "      <th></th>\n",
       "      <th>eventId</th>\n",
       "      <th>driverId</th>\n",
       "      <th>driverNumber</th>\n",
       "      <th>seasonEntrantId</th>\n",
       "      <th>entrantName</th>\n",
       "      <th>chassisManufacturerId</th>\n",
       "      <th>chassisName</th>\n",
       "      <th>engineName</th>\n",
       "      <th>engineManufacturerId</th>\n",
       "      <th>tyreManufacturerId</th>\n",
       "      <th>note</th>\n",
       "    </tr>\n",
       "  </thead>\n",
       "  <tbody>\n",
       "    <tr>\n",
       "      <th>27216</th>\n",
       "      <td>2022-22</td>\n",
       "      <td>carlos-sainz-jr</td>\n",
       "      <td>55</td>\n",
       "      <td>2022-scuderia-ferrari</td>\n",
       "      <td>Scuderia Ferrari</td>\n",
       "      <td>ferrari</td>\n",
       "      <td>F1-75</td>\n",
       "      <td>066/7 V6 t h 1.6</td>\n",
       "      <td>ferrari</td>\n",
       "      <td>pirelli</td>\n",
       "      <td>NaN</td>\n",
       "    </tr>\n",
       "    <tr>\n",
       "      <th>27217</th>\n",
       "      <td>2022-22</td>\n",
       "      <td>george-russell</td>\n",
       "      <td>63</td>\n",
       "      <td>2022-mercedes-amg-petronas-f1-team</td>\n",
       "      <td>Mercedes AMG Petronas F1 Team</td>\n",
       "      <td>bwt-mercedes</td>\n",
       "      <td>F1 W13</td>\n",
       "      <td>M13 E Performance V6 t h 1.6</td>\n",
       "      <td>bwt-mercedes</td>\n",
       "      <td>pirelli</td>\n",
       "      <td>NaN</td>\n",
       "    </tr>\n",
       "    <tr>\n",
       "      <th>27218</th>\n",
       "      <td>2022-22</td>\n",
       "      <td>valtteri-bottas</td>\n",
       "      <td>77</td>\n",
       "      <td>2022-alfa-romeo-f1-team-orlen</td>\n",
       "      <td>Alfa Romeo F1 Team ORLEN</td>\n",
       "      <td>alfa-romeo</td>\n",
       "      <td>C42</td>\n",
       "      <td>066/7 V6 t h 1.6</td>\n",
       "      <td>ferrari</td>\n",
       "      <td>pirelli</td>\n",
       "      <td>NaN</td>\n",
       "    </tr>\n",
       "    <tr>\n",
       "      <th>27219</th>\n",
       "      <td>2022-22</td>\n",
       "      <td>jack-doohan</td>\n",
       "      <td>82</td>\n",
       "      <td>2022-bwt-alpine-f1-team</td>\n",
       "      <td>BWT Alpine F1 Team</td>\n",
       "      <td>alpine</td>\n",
       "      <td>A522</td>\n",
       "      <td>E-Tech RE22 V6 t h 1.6</td>\n",
       "      <td>renault</td>\n",
       "      <td>pirelli</td>\n",
       "      <td>TD</td>\n",
       "    </tr>\n",
       "    <tr>\n",
       "      <th>27220</th>\n",
       "      <td>2022-22</td>\n",
       "      <td>robert-kubica</td>\n",
       "      <td>88</td>\n",
       "      <td>2022-alfa-romeo-f1-team-orlen</td>\n",
       "      <td>Alfa Romeo F1 Team ORLEN</td>\n",
       "      <td>alfa-romeo</td>\n",
       "      <td>C42</td>\n",
       "      <td>066/7 V6 t h 1.6</td>\n",
       "      <td>ferrari</td>\n",
       "      <td>pirelli</td>\n",
       "      <td>TD</td>\n",
       "    </tr>\n",
       "  </tbody>\n",
       "</table>\n",
       "</div>"
      ],
      "text/plain": [
       "       eventId         driverId  driverNumber  \\\n",
       "27216  2022-22  carlos-sainz-jr            55   \n",
       "27217  2022-22   george-russell            63   \n",
       "27218  2022-22  valtteri-bottas            77   \n",
       "27219  2022-22      jack-doohan            82   \n",
       "27220  2022-22    robert-kubica            88   \n",
       "\n",
       "                          seasonEntrantId                    entrantName  \\\n",
       "27216               2022-scuderia-ferrari               Scuderia Ferrari   \n",
       "27217  2022-mercedes-amg-petronas-f1-team  Mercedes AMG Petronas F1 Team   \n",
       "27218       2022-alfa-romeo-f1-team-orlen       Alfa Romeo F1 Team ORLEN   \n",
       "27219             2022-bwt-alpine-f1-team             BWT Alpine F1 Team   \n",
       "27220       2022-alfa-romeo-f1-team-orlen       Alfa Romeo F1 Team ORLEN   \n",
       "\n",
       "      chassisManufacturerId chassisName                    engineName  \\\n",
       "27216               ferrari       F1-75              066/7 V6 t h 1.6   \n",
       "27217          bwt-mercedes      F1 W13  M13 E Performance V6 t h 1.6   \n",
       "27218            alfa-romeo         C42              066/7 V6 t h 1.6   \n",
       "27219                alpine        A522        E-Tech RE22 V6 t h 1.6   \n",
       "27220            alfa-romeo         C42              066/7 V6 t h 1.6   \n",
       "\n",
       "      engineManufacturerId tyreManufacturerId note  \n",
       "27216              ferrari            pirelli  NaN  \n",
       "27217         bwt-mercedes            pirelli  NaN  \n",
       "27218              ferrari            pirelli  NaN  \n",
       "27219              renault            pirelli   TD  \n",
       "27220              ferrari            pirelli   TD  "
      ]
     },
     "execution_count": 8,
     "metadata": {},
     "output_type": "execute_result"
    }
   ],
   "source": [
    "df[\"engineName\"] = df.apply(\n",
    "    lambda x: \"RS25 3.0 V10\"\n",
    "    if x[\"chassisManufacturerId\"] == \"renault\"\n",
    "    and str(x[\"eventId\"]).split(\"-\")[0] == \"2005\"\n",
    "    else x[\"engineName\"],\n",
    "    axis=1,\n",
    ")\n",
    "\n",
    "df.tail()\n"
   ]
  },
  {
   "cell_type": "code",
   "execution_count": 9,
   "metadata": {},
   "outputs": [],
   "source": [
    "df.to_csv(f\"{OUTPUT_PATH}/eventEntrants.csv\", index=False)"
   ]
  }
 ],
 "metadata": {
  "kernelspec": {
   "display_name": "Python 3",
   "language": "python",
   "name": "python3"
  },
  "language_info": {
   "codemirror_mode": {
    "name": "ipython",
    "version": 3
   },
   "file_extension": ".py",
   "mimetype": "text/x-python",
   "name": "python",
   "nbconvert_exporter": "python",
   "pygments_lexer": "ipython3",
   "version": "3.10.5"
  },
  "orig_nbformat": 4,
  "vscode": {
   "interpreter": {
    "hash": "4fe8648bc51823301d9721b2da8cf2e7ea3829482ed2017c7b7190493e72ba7a"
   }
  }
 },
 "nbformat": 4,
 "nbformat_minor": 2
}
