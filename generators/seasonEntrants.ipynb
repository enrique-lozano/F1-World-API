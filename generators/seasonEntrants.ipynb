{
  "cells": [
    {
      "attachments": {},
      "cell_type": "markdown",
      "metadata": {},
      "source": [
        "## Event entrants\n",
        "\n",
        "Script to be improved. Bulk edit event entrants of a year\n"
      ]
    },
    {
      "cell_type": "code",
      "execution_count": 18,
      "metadata": {},
      "outputs": [],
      "source": [
        "import pandas as pd\n",
        "import os"
      ]
    },
    {
      "cell_type": "code",
      "execution_count": 19,
      "metadata": {},
      "outputs": [],
      "source": [
        "# Path of the current data\n",
        "INPUT_PATH = \"./../data/csv/\"\n",
        "\n",
        "# Path to generate the new db files\n",
        "OUTPUT_PATH = \"generated/Data to replace to the DB\"\n",
        "\n",
        "if not os.path.exists(OUTPUT_PATH):\n",
        "   os.makedirs(OUTPUT_PATH)"
      ]
    },
    {
      "cell_type": "code",
      "execution_count": 20,
      "metadata": {},
      "outputs": [],
      "source": [
        "df  = pd.read_csv(f\"{INPUT_PATH}/sessionEntrants.csv\")"
      ]
    },
    {
      "cell_type": "code",
      "execution_count": 21,
      "metadata": {},
      "outputs": [
        {
          "data": {
            "text/html": [
              "<div>\n",
              "<style scoped>\n",
              "    .dataframe tbody tr th:only-of-type {\n",
              "        vertical-align: middle;\n",
              "    }\n",
              "\n",
              "    .dataframe tbody tr th {\n",
              "        vertical-align: top;\n",
              "    }\n",
              "\n",
              "    .dataframe thead th {\n",
              "        text-align: right;\n",
              "    }\n",
              "</style>\n",
              "<table border=\"1\" class=\"dataframe\">\n",
              "  <thead>\n",
              "    <tr style=\"text-align: right;\">\n",
              "      <th></th>\n",
              "      <th>id</th>\n",
              "      <th>driverId</th>\n",
              "      <th>driverNumber</th>\n",
              "      <th>seasonEntrantId</th>\n",
              "      <th>entrantName</th>\n",
              "      <th>chassisManufacturerId</th>\n",
              "      <th>chassisName</th>\n",
              "      <th>engineName</th>\n",
              "      <th>engineManufacturerId</th>\n",
              "      <th>tyreManufacturerId</th>\n",
              "      <th>note</th>\n",
              "    </tr>\n",
              "  </thead>\n",
              "  <tbody>\n",
              "    <tr>\n",
              "      <th>7277</th>\n",
              "      <td>7278</td>\n",
              "      <td>pietro-fittipaldi</td>\n",
              "      <td>51</td>\n",
              "      <td>2022-haas-f1-team</td>\n",
              "      <td>Haas F1 Team</td>\n",
              "      <td>haas</td>\n",
              "      <td>VF-22</td>\n",
              "      <td>066/7 V6 t h 1.6</td>\n",
              "      <td>ferrari</td>\n",
              "      <td>pirelli</td>\n",
              "      <td>TD</td>\n",
              "    </tr>\n",
              "    <tr>\n",
              "      <th>7278</th>\n",
              "      <td>7279</td>\n",
              "      <td>jack-doohan</td>\n",
              "      <td>82</td>\n",
              "      <td>2022-bwt-alpine-f1-team</td>\n",
              "      <td>BWT Alpine F1 Team</td>\n",
              "      <td>alpine</td>\n",
              "      <td>A522</td>\n",
              "      <td>E-Tech RE22 V6 t h 1.6</td>\n",
              "      <td>renault</td>\n",
              "      <td>pirelli</td>\n",
              "      <td>TD</td>\n",
              "    </tr>\n",
              "    <tr>\n",
              "      <th>7279</th>\n",
              "      <td>7280</td>\n",
              "      <td>patricio-oward</td>\n",
              "      <td>28</td>\n",
              "      <td>2022-mclaren-f1-team</td>\n",
              "      <td>McLaren F1 Team</td>\n",
              "      <td>mclaren</td>\n",
              "      <td>MCL36</td>\n",
              "      <td>M13 E Performance V6 t h 1.6</td>\n",
              "      <td>bwt-mercedes</td>\n",
              "      <td>pirelli</td>\n",
              "      <td>TD</td>\n",
              "    </tr>\n",
              "    <tr>\n",
              "      <th>7280</th>\n",
              "      <td>7281</td>\n",
              "      <td>felipe-drugovich</td>\n",
              "      <td>34</td>\n",
              "      <td>2022-aston-martin-aramco-cognizant-f1-team</td>\n",
              "      <td>Aston Martin Aramco Cognizant F1 Team</td>\n",
              "      <td>aston-martin</td>\n",
              "      <td>AMR22</td>\n",
              "      <td>M13 E Performance V6 t h 1.6</td>\n",
              "      <td>bwt-mercedes</td>\n",
              "      <td>pirelli</td>\n",
              "      <td>TD</td>\n",
              "    </tr>\n",
              "    <tr>\n",
              "      <th>7281</th>\n",
              "      <td>7282</td>\n",
              "      <td>liam-lawson</td>\n",
              "      <td>36</td>\n",
              "      <td>2022-oracle-red-bull-racing</td>\n",
              "      <td>Oracle Red Bull Racing</td>\n",
              "      <td>red-bull</td>\n",
              "      <td>RB18</td>\n",
              "      <td>RBPTH001 V6 t h 1.6</td>\n",
              "      <td>red-bull-powertrains</td>\n",
              "      <td>pirelli</td>\n",
              "      <td>TD</td>\n",
              "    </tr>\n",
              "  </tbody>\n",
              "</table>\n",
              "</div>"
            ],
            "text/plain": [
              "        id           driverId  driverNumber  \\\n",
              "7277  7278  pietro-fittipaldi            51   \n",
              "7278  7279        jack-doohan            82   \n",
              "7279  7280     patricio-oward            28   \n",
              "7280  7281   felipe-drugovich            34   \n",
              "7281  7282        liam-lawson            36   \n",
              "\n",
              "                                 seasonEntrantId  \\\n",
              "7277                           2022-haas-f1-team   \n",
              "7278                     2022-bwt-alpine-f1-team   \n",
              "7279                        2022-mclaren-f1-team   \n",
              "7280  2022-aston-martin-aramco-cognizant-f1-team   \n",
              "7281                 2022-oracle-red-bull-racing   \n",
              "\n",
              "                                entrantName chassisManufacturerId chassisName  \\\n",
              "7277                           Haas F1 Team                  haas       VF-22   \n",
              "7278                     BWT Alpine F1 Team                alpine        A522   \n",
              "7279                        McLaren F1 Team               mclaren       MCL36   \n",
              "7280  Aston Martin Aramco Cognizant F1 Team          aston-martin       AMR22   \n",
              "7281                 Oracle Red Bull Racing              red-bull        RB18   \n",
              "\n",
              "                        engineName  engineManufacturerId tyreManufacturerId  \\\n",
              "7277              066/7 V6 t h 1.6               ferrari            pirelli   \n",
              "7278        E-Tech RE22 V6 t h 1.6               renault            pirelli   \n",
              "7279  M13 E Performance V6 t h 1.6          bwt-mercedes            pirelli   \n",
              "7280  M13 E Performance V6 t h 1.6          bwt-mercedes            pirelli   \n",
              "7281           RBPTH001 V6 t h 1.6  red-bull-powertrains            pirelli   \n",
              "\n",
              "     note  \n",
              "7277   TD  \n",
              "7278   TD  \n",
              "7279   TD  \n",
              "7280   TD  \n",
              "7281   TD  "
            ]
          },
          "execution_count": 21,
          "metadata": {},
          "output_type": "execute_result"
        }
      ],
      "source": [
        "df[\"engineName\"] = df.apply(\n",
        "    lambda x: \"RS25 3.0 V10\"\n",
        "    if x[\"chassisManufacturerId\"] == \"renault\"\n",
        "    and str(x[\"seasonEntrantId\"]).split(\"-\")[0] == \"2005\"\n",
        "    else x[\"engineName\"],\n",
        "    axis=1,\n",
        ")\n",
        "\n",
        "df.tail()\n"
      ]
    },
    {
      "cell_type": "code",
      "execution_count": 22,
      "metadata": {},
      "outputs": [],
      "source": [
        "df.to_csv(f\"{OUTPUT_PATH}/sessionEntrants.csv\", index=False)"
      ]
    }
  ],
  "metadata": {
    "kernelspec": {
      "display_name": "Python 3",
      "language": "python",
      "name": "python3"
    },
    "language_info": {
      "codemirror_mode": {
        "name": "ipython",
        "version": 3
      },
      "file_extension": ".py",
      "mimetype": "text/x-python",
      "name": "python",
      "nbconvert_exporter": "python",
      "pygments_lexer": "ipython3",
      "version": "3.12.1"
    },
    "orig_nbformat": 4,
    "vscode": {
      "interpreter": {
        "hash": "4fe8648bc51823301d9721b2da8cf2e7ea3829482ed2017c7b7190493e72ba7a"
      }
    }
  },
  "nbformat": 4,
  "nbformat_minor": 2
}
