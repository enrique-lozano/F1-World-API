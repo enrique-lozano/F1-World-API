{
  "cells": [
    {
      "attachments": {},
      "cell_type": "markdown",
      "metadata": {},
      "source": [
        "### Data generator from Ergast\n",
        "\n",
        "Retrieve the data from the ergast API. Currently used for lap times only. The results will be saved in csv files, and should completely replace the files currently in the database with the same name. New data coming from Ergast will be merged with the previous data\n"
      ]
    },
    {
      "cell_type": "code",
      "execution_count": null,
      "metadata": {},
      "outputs": [],
      "source": [
        "import pandas as pd\n",
        "\n",
        "from utils.columnDict import ColumnDict\n",
        "\n",
        "from constants import *\n",
        "from functions import *"
      ]
    },
    {
      "cell_type": "code",
      "execution_count": null,
      "metadata": {},
      "outputs": [],
      "source": [
        "# Auto-create the output directory if needed:\n",
        "if not os.path.exists(OUTPUT_PATH):\n",
        "    os.makedirs(OUTPUT_PATH)"
      ]
    },
    {
      "cell_type": "code",
      "execution_count": null,
      "metadata": {},
      "outputs": [],
      "source": [
        "ZIP_URL = \"http://ergast.com/downloads/f1db_csv.zip\"\n",
        "TEMP_FILEZIP = \"tempfile.zip\"\n",
        "TEMP_FOLDER = \"temp/\"\n",
        "\n",
        "zipresp = request.urlopen(ZIP_URL)\n",
        "tempzip = open(TEMP_FILEZIP, \"wb\")\n",
        "tempzip.write(zipresp.read())\n",
        "tempzip.close()\n",
        "\n",
        "zf = ZipFile(TEMP_FILEZIP)\n",
        "zf.extractall(path=TEMP_FOLDER)\n",
        "zf.close()\n",
        "os.remove(TEMP_FILEZIP)"
      ]
    },
    {
      "cell_type": "code",
      "execution_count": null,
      "metadata": {},
      "outputs": [],
      "source": [
        "\"\"\" ---------------------------------------------\n",
        "----------------- LAP TIMES ---------------------\n",
        "--------------------------------------------- \"\"\"\n",
        "\n",
        "lap_times_from_ergast = pd.read_csv(TEMP_FOLDER + \"lap_times.csv\")\n",
        "races_from_ergast = pd.read_csv(TEMP_FOLDER + \"races.csv\")\n",
        "drivers_from_ergast = pd.read_csv(TEMP_FOLDER + \"drivers.csv\")\n",
        "\n",
        "drivers_from_ergast[\"full_name\"] = (\n",
        "    drivers_from_ergast[\"forename\"] + \" \" + drivers_from_ergast[\"surname\"]\n",
        ")\n",
        "\n",
        "lap_times_from_ergast = lap_times_from_ergast.merge(\n",
        "    races_from_ergast.loc[:, [\"raceId\", \"round\", \"year\"]], on=\"raceId\"\n",
        ").merge(drivers_from_ergast.loc[:, [\"driverId\", \"full_name\"]], on=\"driverId\")\n",
        "\n",
        "lap_times_from_ergast = lap_times_from_ergast.loc[\n",
        "    lap_times_from_ergast[\"year\"] == SEASON\n",
        "]\n",
        "\n",
        "lap_times_from_ergast.head()"
      ]
    },
    {
      "cell_type": "code",
      "execution_count": null,
      "metadata": {},
      "outputs": [],
      "source": [
        "columns_dict: ColumnDict = {\n",
        "    \"sessionId\": lambda x, y: f\"{x[\"year\"]}-{str(x[\"round\"]).zfill(2) if x[\"round\"] < 10 else x[\"round\"]}-R\",\n",
        "    \"entrantId\": lambda x, y: find_entrant_id(x[\"full_name\"]),\n",
        "    \"time\": lambda x, y: x[\"milliseconds\"],\n",
        "    \"pos\": lambda x, y: x[\"position\"],\n",
        "    \"lap\": lambda x, y: x[\"lap\"],\n",
        "}"
      ]
    },
    {
      "cell_type": "code",
      "execution_count": null,
      "metadata": {},
      "outputs": [],
      "source": [
        "def create_df_from_other(start_df: DataFrame):\n",
        "    \"\"\"\n",
        "    Create an entire new DataFrame parting on the values of\n",
        "    another one and the specified transformations\n",
        "    \"\"\"\n",
        "\n",
        "    df_to_return = pd.DataFrame()\n",
        "\n",
        "    for column in columns_dict.keys():\n",
        "        columnValue = columns_dict[column]\n",
        "\n",
        "        if type(columnValue) == str or type(columnValue) == int:\n",
        "            df_to_return[column] = columnValue\n",
        "            continue\n",
        "\n",
        "        df_to_return[column] = start_df.apply(\n",
        "            lambda x: columnValue(x, start_df), axis=1\n",
        "        )\n",
        "\n",
        "    return df_to_return"
      ]
    },
    {
      "cell_type": "code",
      "execution_count": null,
      "metadata": {},
      "outputs": [],
      "source": [
        "download_df(create_df_from_other(lap_times_from_ergast), \"ola\")"
      ]
    }
  ],
  "metadata": {
    "kernelspec": {
      "display_name": "Python 3.10.5 64-bit",
      "language": "python",
      "name": "python3"
    },
    "language_info": {
      "codemirror_mode": {
        "name": "ipython",
        "version": 3
      },
      "file_extension": ".py",
      "mimetype": "text/x-python",
      "name": "python",
      "nbconvert_exporter": "python",
      "pygments_lexer": "ipython3",
      "version": "3.12.1"
    },
    "orig_nbformat": 4,
    "vscode": {
      "interpreter": {
        "hash": "4fe8648bc51823301d9721b2da8cf2e7ea3829482ed2017c7b7190493e72ba7a"
      }
    }
  },
  "nbformat": 4,
  "nbformat_minor": 2
}
